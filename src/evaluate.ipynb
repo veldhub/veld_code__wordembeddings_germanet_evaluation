{
 "cells": [
  {
   "cell_type": "markdown",
   "id": "cc78dd0a-20c4-4b5b-9623-8d2f55486e96",
   "metadata": {},
   "source": [
    "# setup"
   ]
  },
  {
   "cell_type": "markdown",
   "id": "f73f98db-5838-49b2-923e-f288fc2ba96f",
   "metadata": {},
   "source": [
    "## imports"
   ]
  },
  {
   "cell_type": "code",
   "execution_count": null,
   "id": "a22f6822-07d1-479c-9f78-647d30293519",
   "metadata": {},
   "outputs": [],
   "source": [
    "import os\n",
    "import random\n",
    "from dataclasses import dataclass\n",
    "from textwrap import dedent\n",
    "\n",
    "import networkx as nx\n",
    "import plotly.graph_objects as go\n",
    "import plotly.io as pio\n",
    "import psycopg\n",
    "from germanetpy.filterconfig import Filterconfig\n",
    "from germanetpy.frames import Frames\n",
    "from germanetpy.germanet import Germanet\n",
    "from germanetpy.path_based_relatedness_measures import PathBasedRelatedness\n",
    "from germanetpy.synset import WordCategory, WordClass\n",
    "from psycopg.sql import SQL, Identifier, Literal"
   ]
  },
  {
   "cell_type": "markdown",
   "id": "bc713881-9f62-4df9-89ca-1169916e3d79",
   "metadata": {},
   "source": [
    "## global vars"
   ]
  },
  {
   "cell_type": "code",
   "execution_count": null,
   "id": "49acbdb7-7e78-4bad-9386-4b5e920bb0bb",
   "metadata": {},
   "outputs": [],
   "source": [
    "SET_TEST = True\n",
    "pio.renderers.default = \"notebook\"\n",
    "random.seed(42)"
   ]
  },
  {
   "cell_type": "code",
   "execution_count": null,
   "id": "c30a65b7-42d4-4ef0-bb43-a9e12fb7ba74",
   "metadata": {},
   "outputs": [],
   "source": [
    "germanet = Germanet(\"/veld/input/\")"
   ]
  },
  {
   "cell_type": "code",
   "execution_count": null,
   "id": "cdf64211-2176-421c-8304-0fbfa07845ff",
   "metadata": {},
   "outputs": [],
   "source": [
    "POSTGRES_HOST = os.getenv(\"POSTGRES_HOST\")\n",
    "POSTGRES_PORT = os.getenv(\"POSTGRES_PORT\")\n",
    "POSTGRES_USER = os.getenv(\"POSTGRES_USER\")\n",
    "POSTGRES_PASSWORD = os.getenv(\"POSTGRES_PASSWORD\")\n",
    "POSTGRES_DB = os.getenv(\"POSTGRES_DB\")\n",
    "print(f\"{POSTGRES_HOST=}\")\n",
    "print(f\"{POSTGRES_PORT=}\")\n",
    "print(f\"{POSTGRES_USER=}\")\n",
    "print(f\"{POSTGRES_PASSWORD=}\")\n",
    "print(f\"{POSTGRES_DB=}\")"
   ]
  },
  {
   "cell_type": "markdown",
   "id": "a9e35395-5d59-4e87-b900-d04a8907ea0d",
   "metadata": {},
   "source": [
    "## DB"
   ]
  },
  {
   "cell_type": "code",
   "execution_count": null,
   "id": "8faa63f8-4a9e-483a-b089-22d6fd63b230",
   "metadata": {},
   "outputs": [],
   "source": [
    "conn = psycopg.connect(\n",
    "    host=POSTGRES_HOST,\n",
    "    port=POSTGRES_PORT,\n",
    "    dbname=POSTGRES_DB,\n",
    "    user=POSTGRES_USER,\n",
    "    password=POSTGRES_PASSWORD,\n",
    ")\n",
    "conn.autocommit = True\n",
    "cur = conn.cursor()\n",
    "cur.execute(\"SELECT version()\")\n",
    "print(cur.fetchone())"
   ]
  },
  {
   "cell_type": "code",
   "execution_count": null,
   "id": "3266ca30-c5ac-461f-a34c-b3c7086f5bd2",
   "metadata": {},
   "outputs": [],
   "source": [
    "class Query:\n",
    "\n",
    "    def __init__(self, cur):\n",
    "        self.cur = cur\n",
    "\n",
    "    def __call__(self, query, enable_print=True, **kwargs):\n",
    "        kwargs_cleaned = {}\n",
    "        for key, value in kwargs.items():\n",
    "            if type(value) is type(self):\n",
    "                kwargs_cleaned[key] = value.as_sql()\n",
    "            else:\n",
    "                kwargs_cleaned[key] = value\n",
    "        self.query = SQL(query).format(**kwargs_cleaned)\n",
    "        if enable_print:\n",
    "            print(self.query.as_string())\n",
    "        return self\n",
    "\n",
    "    def as_sql(self):\n",
    "        return self.query\n",
    "\n",
    "    def execute(self, data=None):\n",
    "        if data:\n",
    "            self.cur.execute(self.query, data)\n",
    "        else:\n",
    "            self.cur.execute(self.query)\n",
    "        return self\n",
    "\n",
    "    def executemany(self, data):\n",
    "        self.cur.executemany(self.query, data)\n",
    "        return self\n",
    "\n",
    "    def fetchall(self):\n",
    "        return self.cur.fetchall()\n",
    "\n",
    "\n",
    "query = Query(cur=cur)"
   ]
  },
  {
   "cell_type": "markdown",
   "id": "b3131eb1-2fdd-4143-816f-48f5d926326c",
   "metadata": {},
   "source": [
    "# individual functions"
   ]
  },
  {
   "cell_type": "markdown",
   "id": "027577d0-9489-4d0f-8488-52461440980b",
   "metadata": {},
   "source": [
    "### print_sample_of_related"
   ]
  },
  {
   "cell_type": "code",
   "execution_count": null,
   "id": "200c265e-9e31-4593-b8b3-6ef1926d693d",
   "metadata": {},
   "outputs": [],
   "source": [
    "def print_sample_of_related(word_similarity_dict, num_steps):\n",
    "    step_divider = len(word_similarity_dict) // (num_steps - 1)\n",
    "    for i, d in enumerate(word_similarity_dict.items()):\n",
    "        if i % step_divider == 0 or i == len(word_similarity_dict) - 1:\n",
    "            print(d)"
   ]
  },
  {
   "cell_type": "markdown",
   "id": "8de68198-0ff9-4968-b9c7-ac2ba3102735",
   "metadata": {},
   "source": [
    "## germanet"
   ]
  },
  {
   "cell_type": "markdown",
   "id": "d888b3ac-f95f-4f95-8143-4e7ad3be68c1",
   "metadata": {},
   "source": [
    "### relatedness_calculator"
   ]
  },
  {
   "cell_type": "code",
   "execution_count": null,
   "id": "a3d0755b-bcd6-4e0a-af76-1990c1cabf24",
   "metadata": {},
   "outputs": [],
   "source": [
    "relatedness_calculator = PathBasedRelatedness(\n",
    "    germanet=germanet,\n",
    "    category=WordCategory.nomen,\n",
    ")\n",
    "\n",
    "\n",
    "if SET_TEST:\n",
    "    w1 = germanet.get_synsets_by_orthform(\"Trompete\").pop()\n",
    "    w2 = germanet.get_synsets_by_orthform(\"Flöte\").pop()\n",
    "    w3 = germanet.get_synsets_by_orthform(\"Haus\").pop()\n",
    "    w1_w2 = relatedness_calculator.leacock_chodorow(w1, w2)\n",
    "    w1_w3 = relatedness_calculator.leacock_chodorow(w1, w3)\n",
    "    print(w1_w2)\n",
    "    print(w1_w3)\n",
    "    w1_w2 = relatedness_calculator.simple_path(w1, w2)\n",
    "    w1_w3 = relatedness_calculator.simple_path(w1, w3)\n",
    "    print(w1_w2)\n",
    "    print(w1_w3)"
   ]
  },
  {
   "cell_type": "markdown",
   "id": "52c235f3-3176-4dc2-b0ff-e00d7bcd73d1",
   "metadata": {},
   "source": [
    "### get_average_synset_similarity"
   ]
  },
  {
   "cell_type": "code",
   "execution_count": null,
   "id": "4e695aa5-03af-461a-b3b7-94303577444e",
   "metadata": {},
   "outputs": [],
   "source": [
    "def get_average_synset_similarity(word_1, word_2):\n",
    "    synset_list_1 = germanet.get_synsets_by_orthform(word_1)\n",
    "    synset_list_2 = germanet.get_synsets_by_orthform(word_2)\n",
    "    path_distance_list = []\n",
    "    for synset_1 in synset_list_1:\n",
    "        for synset_2 in synset_list_2:\n",
    "            try:\n",
    "                path_distance_list.append(relatedness_calculator.simple_path(synset_1, synset_2))\n",
    "            except:\n",
    "                pass\n",
    "    if len(path_distance_list) != 0:\n",
    "        average_path = sum(path_distance_list) / len(path_distance_list)\n",
    "        return average_path\n",
    "    else:\n",
    "        return None\n",
    "\n",
    "\n",
    "if SET_TEST:\n",
    "    print(get_average_synset_similarity(\"Frau\", \"Gattin\"))\n",
    "    print(get_average_synset_similarity(\"Frau\", \"Mann\"))\n",
    "    print(get_average_synset_similarity(\"Frau\", \"Küche\"))\n",
    "    print(get_average_synset_similarity(\"Frau\", \"Kind\"))\n",
    "    print(get_average_synset_similarity(\"Mann\", \"Kind\"))\n",
    "    print(get_average_synset_similarity(\"Frau\", \"Mathematik\"))\n",
    "    print(get_average_synset_similarity(\"Mann\", \"Mathematik\"))\n",
    "    print(get_average_synset_similarity(\"Frau\", \"Frau\"))\n",
    "    print(get_average_synset_similarity(\"Gattin\", \"Gattin\"))"
   ]
  },
  {
   "cell_type": "markdown",
   "id": "206167ad-cd38-456d-aa2d-685d7f908730",
   "metadata": {},
   "source": [
    "### get_all_words_of_germanet"
   ]
  },
  {
   "cell_type": "code",
   "execution_count": null,
   "id": "ce1330e4-c556-42fc-94da-641a04abf77d",
   "metadata": {},
   "outputs": [],
   "source": [
    "def get_all_words_of_germanet():\n",
    "    lex_all_set = set()\n",
    "    for ss in germanet.synsets.values():\n",
    "        for lex in ss.lexunits:\n",
    "            lex_all_set.add(lex.orthform)\n",
    "    return lex_all_set\n",
    "\n",
    "\n",
    "if SET_TEST:\n",
    "    all_germanet_words_set = get_all_words_of_germanet()\n",
    "    print(len(all_germanet_words_set))"
   ]
  },
  {
   "cell_type": "markdown",
   "id": "b5e4453e-6e91-4024-bf41-ac67dd02ea80",
   "metadata": {},
   "source": [
    "### create_word_similarity_germanet"
   ]
  },
  {
   "cell_type": "code",
   "execution_count": null,
   "id": "8f8ef7c6-506e-467d-9402-c0e46aec99df",
   "metadata": {},
   "outputs": [],
   "source": [
    "def create_word_similarity_germanet(word_a, word_set):\n",
    "    word_b_list = []\n",
    "    for word_b in word_set:\n",
    "        if word_a != word_b:\n",
    "            sim = get_average_synset_similarity(word_a, word_b)\n",
    "            if sim is not None:\n",
    "                word_b_list.append((word_b, sim))\n",
    "            else:\n",
    "                pass\n",
    "    word_b_list = sorted(word_b_list, key=lambda x: -x[1])\n",
    "    return {lex_b: dist for lex_b, dist in word_b_list}\n",
    "\n",
    "\n",
    "if SET_TEST:\n",
    "    sample_word = \"Tisch\"\n",
    "    word_similarity_germanet_dict = create_word_similarity_germanet(sample_word, all_germanet_words_set)\n",
    "    print_sample_of_related(word_similarity_germanet_dict, 30)"
   ]
  },
  {
   "cell_type": "markdown",
   "id": "371d9ddb-6808-4e93-8850-8f61d88e7fe9",
   "metadata": {},
   "source": [
    "### create_lexeme_graph"
   ]
  },
  {
   "cell_type": "code",
   "execution_count": null,
   "id": "4259daf2-df62-40c3-a5b5-453ceba76889",
   "metadata": {},
   "outputs": [],
   "source": [
    "def create_lexeme_graph(limit=None, debug=False):\n",
    "    g = nx.Graph()\n",
    "    synset_list = list(germanet.synsets.values())\n",
    "    if limit is not None:\n",
    "        synset_list = synset_list[:limit]\n",
    "    for ss in synset_list:\n",
    "        if debug:\n",
    "            print(ss)\n",
    "        for ss_rel_key, ss_rel_set in ss.relations.items():\n",
    "            if debug:\n",
    "                print(\"\\t\", ss_rel_key)\n",
    "            for ss_rel in ss_rel_set:\n",
    "                if debug:\n",
    "                    print(\"\\t\\t\", ss_rel)\n",
    "                    print(\"\\t\\t\\t\", ss_rel.lexunits)\n",
    "                for lex_ss in ss.lexunits:\n",
    "                    for lex_ss_rel in ss_rel.lexunits:\n",
    "                        if \"GNROOT\" not in [lex_ss.orthform, lex_ss_rel.orthform]:\n",
    "                            g.add_edge(lex_ss.orthform, lex_ss_rel.orthform, label=ss.id + \"-\" + ss_rel.id)\n",
    "    return g\n",
    "\n",
    "\n",
    "# perhaps unnecessary function; thus disabled for now.\n",
    "# if ENABLE_TEST:\n",
    "#     g = create_lexeme_graph(limit=1000, debug=False)"
   ]
  },
  {
   "cell_type": "markdown",
   "id": "459c9983-718c-4fac-be61-99a65ebb2bef",
   "metadata": {},
   "source": [
    "### plot_graph"
   ]
  },
  {
   "cell_type": "code",
   "execution_count": null,
   "id": "9d9a408a-aa62-433b-8366-e30756821b0e",
   "metadata": {},
   "outputs": [],
   "source": [
    "def plot_graph(g, sub_node_list=None, traversal_limit=None):\n",
    "    if sub_node_list:\n",
    "        sub_node_rel_set = set()\n",
    "        for sub_node in sub_node_list:\n",
    "            if traversal_limit is not None:\n",
    "                sub_node_rel_dict = nx.single_source_shortest_path_length(g, sub_node, cutoff=traversal_limit)\n",
    "            else:\n",
    "                sub_node_rel_dict = nx.single_source_shortest_path_length(g, sub_node)\n",
    "            sub_node_rel_set.update(set(sub_node_rel_dict.keys()))\n",
    "        g = g.subgraph(sub_node_rel_set).copy()  # make a copy to avoid view issues\n",
    "    pos = nx.spring_layout(g, seed=42)\n",
    "\n",
    "    # edges\n",
    "    edge_x = []\n",
    "    edge_y = []\n",
    "    edge_text = []\n",
    "    edge_label_x = []\n",
    "    edge_label_y = []\n",
    "    edge_label_text = []\n",
    "    for u, v, data in g.edges(data=True):\n",
    "        x0, y0 = pos[u]\n",
    "        x1, y1 = pos[v]\n",
    "        edge_x.extend([x0, x1, None])\n",
    "        edge_y.extend([y0, y1, None])\n",
    "        edge_text.append(data.get(\"label\", \"\"))\n",
    "        # midpoint for edge label\n",
    "        edge_label_x.append((x0 + x1) / 2)\n",
    "        edge_label_y.append((y0 + y1) / 2)\n",
    "        edge_label_text.append(data.get(\"label\", \"\"))\n",
    "\n",
    "    edge_trace = go.Scatter(\n",
    "        x=edge_x,\n",
    "        y=edge_y,\n",
    "        line=dict(width=2, color=\"#888\"),\n",
    "        hoverinfo=\"text\",\n",
    "        text=edge_text,\n",
    "        mode=\"lines\",\n",
    "    )\n",
    "\n",
    "    # edge labels as separate trace\n",
    "    edge_label_trace = go.Scatter(\n",
    "        x=edge_label_x,\n",
    "        y=edge_label_y,\n",
    "        mode=\"text\",\n",
    "        text=edge_label_text,\n",
    "        textposition=\"middle center\",\n",
    "        hoverinfo=\"none\",\n",
    "        textfont=dict(color=\"black\", size=12),\n",
    "    )\n",
    "\n",
    "    # nodes\n",
    "    node_x = []\n",
    "    node_y = []\n",
    "    node_text = []\n",
    "    for node in g.nodes():\n",
    "        x, y = pos[node]\n",
    "        node_x.append(x)\n",
    "        node_y.append(y)\n",
    "        node_text.append(node)\n",
    "\n",
    "    node_trace = go.Scatter(\n",
    "        x=node_x,\n",
    "        y=node_y,\n",
    "        mode=\"markers+text\",\n",
    "        text=node_text,\n",
    "        textposition=\"top center\",\n",
    "        hoverinfo=\"text\",\n",
    "        marker=dict(size=20, color=\"lightblue\", line=dict(width=2, color=\"DarkSlateGrey\")),\n",
    "    )\n",
    "\n",
    "    # build figure\n",
    "    fig = go.Figure(\n",
    "        data=[edge_trace, edge_label_trace, node_trace],\n",
    "        layout=go.Layout(\n",
    "            width=1000,\n",
    "            height=1000,\n",
    "            title=\"Interactive Graph\",\n",
    "            showlegend=False,\n",
    "            hovermode=\"closest\",\n",
    "            margin=dict(b=20, l=5, r=5, t=40),\n",
    "            xaxis=dict(showgrid=False, zeroline=False, showticklabels=False),\n",
    "            yaxis=dict(showgrid=False, zeroline=False, showticklabels=False),\n",
    "        ),\n",
    "    )\n",
    "    fig.show()\n",
    "\n",
    "\n",
    "# perhaps unnecessary function; thus disabled for now.\n",
    "# if ENABLE_TEST:\n",
    "#     plot_graph(g, sub_node_list=[\"unwirklich\"], traversal_limit=2)"
   ]
  },
  {
   "cell_type": "markdown",
   "id": "b4a08172-bf6e-4278-984f-68f487589494",
   "metadata": {},
   "source": [
    "### get_all_paths"
   ]
  },
  {
   "cell_type": "code",
   "execution_count": null,
   "id": "ee5c011a-4afb-4ab1-be24-677d6c810aff",
   "metadata": {},
   "outputs": [],
   "source": [
    "def get_all_paths(g, l1, l2):\n",
    "    return list(nx.node_disjoint_paths(g, l1, l2))\n",
    "\n",
    "\n",
    "# perhaps unnecessary function; thus disabled for now.\n",
    "# if ENABLE_TEST:\n",
    "#     for p in get_all_paths(g, \"unwirklich\", \"fantastisch\"):\n",
    "#         print(p)"
   ]
  },
  {
   "cell_type": "markdown",
   "id": "06d3bbac-d27c-4a8f-9fc4-bcd127a38b6f",
   "metadata": {},
   "source": [
    "## word embeddings"
   ]
  },
  {
   "cell_type": "markdown",
   "id": "fd7c8850-9b82-46ef-bab8-ab0cb0259269",
   "metadata": {},
   "source": [
    "### get_all_words_of_embeddings"
   ]
  },
  {
   "cell_type": "code",
   "execution_count": null,
   "id": "d663412e-009e-4525-9aa1-1866e78e1668",
   "metadata": {},
   "outputs": [],
   "source": [
    "def get_all_words_of_embeddings(embeddings_table, word_column_name):\n",
    "    return (\n",
    "        query(\n",
    "            \"SELECT {word_column_name} FROM {embeddings_table}\",\n",
    "            enable_print=False,\n",
    "            word_column_name=Identifier(word_column_name),\n",
    "            embeddings_table=Identifier(embeddings_table),\n",
    "        )\n",
    "        .execute()\n",
    "        .fetchall()\n",
    "    )\n",
    "\n",
    "\n",
    "if SET_TEST:\n",
    "    print(len(get_all_words_of_embeddings(\"word2vec__m4\", \"word\")))"
   ]
  },
  {
   "cell_type": "markdown",
   "id": "38304bb2-7515-4bb0-8122-a14927649ba8",
   "metadata": {},
   "source": [
    "### get_word_embedding_similarity"
   ]
  },
  {
   "cell_type": "code",
   "execution_count": null,
   "id": "eaa72e45-6ca9-4278-a86e-0902dbb303ed",
   "metadata": {},
   "outputs": [],
   "source": [
    "def get_word_embedding_similarity(\n",
    "    word_search, embeddings_table, word_column_name, embeddings_column_name, number_results=10, order_by_closest=True\n",
    "):\n",
    "    embeddings_table = (\n",
    "        query(\n",
    "            dedent(\n",
    "                \"\"\"\\\n",
    "                SELECT * FROM get_related(\n",
    "                    word_search := {word_search},\n",
    "                    embeddings_table := {embeddings_table},\n",
    "                    word_column_name := {word_column_name},\n",
    "                    embeddings_column_name := {embeddings_column_name},\n",
    "                    number_results := {number_results},\n",
    "                    order_by_closest := {order_by_closest}\n",
    "                )\n",
    "                \"\"\"\n",
    "            ),\n",
    "            enable_print=False,\n",
    "            word_search=Literal(word_search),\n",
    "            embeddings_table=Literal(embeddings_table),\n",
    "            word_column_name=Literal(word_column_name),\n",
    "            embeddings_column_name=Literal(embeddings_column_name),\n",
    "            number_results=Literal(number_results),\n",
    "            order_by_closest=Literal(order_by_closest),\n",
    "        )\n",
    "        .execute()\n",
    "        .fetchall()\n",
    "    )\n",
    "    return {word: similarity for word, similarity in embeddings_table}\n",
    "\n",
    "\n",
    "if SET_TEST:\n",
    "    word_similarity_embedding_dict = get_word_embedding_similarity(\"tisch\", \"word2vec__m4\", \"word\", \"embedding\", None)\n",
    "    print_sample_of_related(word_similarity_embedding_dict, 30)"
   ]
  },
  {
   "cell_type": "markdown",
   "id": "7515c330-3d0b-44dc-9d95-a949558deaa8",
   "metadata": {},
   "source": [
    "# composite functions"
   ]
  },
  {
   "cell_type": "markdown",
   "id": "502b6f5d-aa69-419b-b395-d28688038d87",
   "metadata": {},
   "source": [
    "## find_overlap_words"
   ]
  },
  {
   "cell_type": "code",
   "execution_count": null,
   "id": "7b6aa2b9-8dfe-46c4-9185-c3a0ae8c9dfa",
   "metadata": {},
   "outputs": [],
   "source": [
    "def find_overlap_words():\n",
    "    words_embeddings = set([w[0].capitalize() for w in get_all_words_of_embeddings(\"word2vec__m4\", \"word\")])\n",
    "    words_germanet = get_all_words_of_germanet()\n",
    "    return words_embeddings.intersection(words_germanet)\n",
    "\n",
    "\n",
    "overlap_word_set = find_overlap_words()\n",
    "print(len(overlap_word_set))"
   ]
  },
  {
   "cell_type": "markdown",
   "id": "e9c57af8-c63e-4820-98d3-7da515bd5648",
   "metadata": {},
   "source": [
    "## filter_for_overlapping_words"
   ]
  },
  {
   "cell_type": "code",
   "execution_count": null,
   "id": "286e6dab-0965-44d9-ad30-132ddaaa27c4",
   "metadata": {},
   "outputs": [],
   "source": [
    "def filter_for_overlapping_words(word_similarity_germanet_dict, word_similarity_embedding_dict):\n",
    "    word_embedding_set = {word.capitalize() for word in word_similarity_embedding_dict.keys()}\n",
    "    common_word_set = word_embedding_set.intersection(set(word_similarity_germanet_dict.keys()))\n",
    "    word_similarity_germanet_filtered_dict = {}\n",
    "    for word, sim in word_similarity_germanet_dict.items():\n",
    "        if word in common_word_set:\n",
    "            word_similarity_germanet_filtered_dict[word] = sim\n",
    "    word_similarity_embedding_filtered_dict = {}\n",
    "    for word, sim in word_similarity_embedding_dict.items():\n",
    "        if word.capitalize() in common_word_set:\n",
    "            word_similarity_embedding_filtered_dict[word] = sim\n",
    "    return word_similarity_germanet_filtered_dict, word_similarity_embedding_filtered_dict\n",
    "\n",
    "\n",
    "if SET_TEST:\n",
    "    print(len(word_similarity_germanet_dict))\n",
    "    print(len(word_similarity_embedding_dict))\n",
    "    word_similarity_germanet_filtered_dict, word_similarity_embedding_filtered_dict = filter_for_overlapping_words(\n",
    "        word_similarity_germanet_dict,\n",
    "        word_similarity_embedding_dict,\n",
    "    )\n",
    "    print(len(word_similarity_germanet_filtered_dict))\n",
    "    print(len(word_similarity_embedding_filtered_dict))"
   ]
  },
  {
   "cell_type": "markdown",
   "id": "ecd414f3-3db8-44ed-9610-291b779eaf45",
   "metadata": {},
   "source": [
    "## normalize_word_similarities"
   ]
  },
  {
   "cell_type": "code",
   "execution_count": null,
   "id": "73296b0f-0305-46c5-94a3-da3be35357fe",
   "metadata": {},
   "outputs": [],
   "source": [
    "def normalize_word_similarities(word_sim_dict):\n",
    "    sim_list = list(word_sim_dict.values())\n",
    "    sim_min = sim_list[0]\n",
    "    sim_max = sim_list[0]\n",
    "    for sim in sim_list[1:]:\n",
    "        if sim < sim_min:\n",
    "            sim_min = sim\n",
    "        if sim > sim_max:\n",
    "            sim_max = sim\n",
    "    scale = sim_max - sim_min\n",
    "    word_sim_normalized_dict = {}\n",
    "    for word_other, sim in word_sim_dict.items():\n",
    "        word_sim_normalized_dict[word_other] = (sim - sim_min) / scale\n",
    "    word_sim_normalized_dict\n",
    "    return word_sim_normalized_dict\n",
    "\n",
    "\n",
    "if SET_TEST:\n",
    "    word_similarity_germanet_filtered_normalized_dict = normalize_word_similarities(word_similarity_germanet_filtered_dict)\n",
    "    print_sample_of_related(word_similarity_germanet_filtered_normalized_dict, 30)\n",
    "    print(\"----------------------------------------------------\")\n",
    "    word_similarity_embedding_filtered_normalized_dict = normalize_word_similarities(word_similarity_embedding_filtered_dict)\n",
    "    print_sample_of_related(word_similarity_embedding_filtered_normalized_dict, 30)"
   ]
  },
  {
   "cell_type": "markdown",
   "id": "12b2299c-6ed2-4498-b8c3-2dfaa8995a33",
   "metadata": {},
   "source": [
    "## randomize_sim_dict"
   ]
  },
  {
   "cell_type": "code",
   "execution_count": null,
   "id": "bd3c831d-d98c-4c2f-9182-a911d3d85300",
   "metadata": {},
   "outputs": [],
   "source": [
    "def randomize_sim_dict(word_sim_dict):\n",
    "    sim_list = list(word_sim_dict.values())\n",
    "    random.shuffle(sim_list)\n",
    "    word_sim_randomized_dict = {}\n",
    "    for word, sim in zip(word_sim_dict.keys(), sim_list):\n",
    "        word_sim_randomized_dict[word] = sim\n",
    "    return word_sim_randomized_dict\n",
    "\n",
    "\n",
    "if SET_TEST:\n",
    "    word_similarity_embedding_filtered_normalized_randomized_dict = randomize_sim_dict(word_similarity_embedding_filtered_normalized_dict)"
   ]
  },
  {
   "cell_type": "markdown",
   "id": "39b8ee78-89c5-4b73-88fd-4956eef0deb2",
   "metadata": {},
   "source": [
    "## calculate_sim_diff"
   ]
  },
  {
   "cell_type": "code",
   "execution_count": null,
   "id": "3bd3cb71-9ddd-4021-8858-3a9646df046f",
   "metadata": {},
   "outputs": [],
   "source": [
    "def calculate_sim_diff(word_similarity_germanet_dict, word_similarity_embedding_dict, top_num=100):\n",
    "    sum_diff = 0\n",
    "    count_diff = 0\n",
    "    word_sim_list = list(word_similarity_embedding_dict.items())\n",
    "    if top_num:\n",
    "        word_sim_list = word_sim_list[:top_num]\n",
    "    for word, sim_embedding in word_sim_list:\n",
    "        sim_germanet = word_similarity_germanet_dict[word.capitalize()]\n",
    "        sum_diff += abs(sim_embedding - sim_germanet)\n",
    "        count_diff += 1\n",
    "    return sum_diff / count_diff\n",
    "\n",
    "\n",
    "if SET_TEST:\n",
    "    top_num = 1000\n",
    "    sim_diff = calculate_sim_diff(\n",
    "        word_similarity_germanet_filtered_normalized_dict,\n",
    "        word_similarity_embedding_filtered_normalized_dict,\n",
    "        top_num=top_num,\n",
    "    )\n",
    "    print(sim_diff)\n",
    "    sim_diff = calculate_sim_diff(\n",
    "        word_similarity_germanet_filtered_normalized_dict,\n",
    "        word_similarity_embedding_filtered_normalized_randomized_dict,\n",
    "        top_num=top_num,\n",
    "    )\n",
    "    print(sim_diff)"
   ]
  },
  {
   "cell_type": "markdown",
   "id": "bab7d8b5-b728-4f81-bef4-c4b07856662a",
   "metadata": {},
   "source": [
    "# analysis"
   ]
  },
  {
   "cell_type": "code",
   "execution_count": null,
   "id": "a67192a2-49c5-4ceb-a3f1-4b9e003c15c2",
   "metadata": {},
   "outputs": [],
   "source": []
  },
  {
   "cell_type": "markdown",
   "id": "0ffeb651-fd0f-4686-b560-fe9864425e51",
   "metadata": {},
   "source": [
    "# experiments"
   ]
  },
  {
   "cell_type": "code",
   "execution_count": null,
   "id": "230602cb-73ac-470c-81bd-c7a7216bf42c",
   "metadata": {},
   "outputs": [],
   "source": [
    "for p in get_all_paths(g, \"Hütte\", \"Haus\"):\n",
    "    print(p)"
   ]
  },
  {
   "cell_type": "code",
   "execution_count": null,
   "id": "259d888f-adde-4ee4-99df-aa6ae5fdf2dd",
   "metadata": {},
   "outputs": [],
   "source": [
    "\"haus\" in g"
   ]
  },
  {
   "cell_type": "markdown",
   "id": "5a9d017e-9d0e-44ce-b214-6a792f3f8ec8",
   "metadata": {},
   "source": [
    "## germanet"
   ]
  },
  {
   "cell_type": "code",
   "execution_count": null,
   "id": "5f3f9980-e21c-47d7-b4e5-160b55085c21",
   "metadata": {},
   "outputs": [],
   "source": [
    "b = germanet.get_synsets_by_orthform(\"Bank\")\n",
    "for ss in b:\n",
    "    print(ss)"
   ]
  },
  {
   "cell_type": "code",
   "execution_count": null,
   "id": "9cd2b7af-a636-4fe4-9a31-106236b63eb8",
   "metadata": {},
   "outputs": [],
   "source": [
    "b = germanet.get_synsets_by_orthform(\"Bankinstitut\")\n",
    "for ss in b:\n",
    "    print(ss)"
   ]
  },
  {
   "cell_type": "code",
   "execution_count": null,
   "id": "e166e03c-6047-4b6d-9827-a66bdb4e9272",
   "metadata": {},
   "outputs": [],
   "source": [
    "print(b[1])\n",
    "print(b[1].lexunits)"
   ]
  },
  {
   "cell_type": "code",
   "execution_count": null,
   "id": "dacb6fc1-5f7a-45ad-86a3-8a7f6e49d8c7",
   "metadata": {},
   "outputs": [],
   "source": [
    "germanet.get_lexunit_by_id(\"l9381\").get_all_orthforms()"
   ]
  },
  {
   "cell_type": "code",
   "execution_count": null,
   "id": "cc0ce4e8-4a66-4033-99f0-5d5506949019",
   "metadata": {},
   "outputs": [],
   "source": [
    "b = germanet.get_synsets_by_orthform(\"Sitzmöbel\")\n",
    "for k, v in b[0].relations.items():\n",
    "    print(k)\n",
    "    for other in v:\n",
    "        print(other)\n",
    "    print(\"\\n\")"
   ]
  },
  {
   "cell_type": "code",
   "execution_count": null,
   "id": "250b81b2-d142-48f8-927f-14bda1b34f39",
   "metadata": {},
   "outputs": [],
   "source": [
    "b[1].incoming_relations"
   ]
  },
  {
   "cell_type": "code",
   "execution_count": null,
   "id": "e828b6f5-6144-4770-b458-f94099f5de65",
   "metadata": {},
   "outputs": [],
   "source": [
    "Filterconfig(\"orange\", ignore_case=True).filter_synsets(germanet)"
   ]
  },
  {
   "cell_type": "code",
   "execution_count": null,
   "id": "12993059-91aa-4843-aa3f-adde672dccf9",
   "metadata": {},
   "outputs": [],
   "source": [
    "WordCategory.get_possible_word_classes(WordCategory.nomen)"
   ]
  },
  {
   "cell_type": "code",
   "execution_count": null,
   "id": "99d76365-9907-42be-8007-0b41128a0339",
   "metadata": {},
   "outputs": [],
   "source": [
    "b = germanet.get_synsets_by_orthform(\"Bank\")\n",
    "for ss in b:\n",
    "    print(ss)"
   ]
  },
  {
   "cell_type": "code",
   "execution_count": null,
   "id": "f6cf6cb2-903d-4fd4-8ce9-f8ce762903c9",
   "metadata": {},
   "outputs": [],
   "source": [
    "ss = b[1]\n",
    "ss"
   ]
  },
  {
   "cell_type": "code",
   "execution_count": null,
   "id": "aececb94-4b21-49b8-b748-2fd811e80e33",
   "metadata": {},
   "outputs": [],
   "source": [
    "ss.relations"
   ]
  },
  {
   "cell_type": "code",
   "execution_count": null,
   "id": "9093e533-e88a-469e-a5a6-dcbce3fa74f5",
   "metadata": {},
   "outputs": [],
   "source": [
    "list(ss.relations.keys())"
   ]
  },
  {
   "cell_type": "code",
   "execution_count": null,
   "id": "51f4f6b4-f7b6-4400-930d-5e86722a8544",
   "metadata": {},
   "outputs": [],
   "source": [
    "l = list(ss.relations.keys())\n",
    "l"
   ]
  },
  {
   "cell_type": "code",
   "execution_count": null,
   "id": "6d1095d2-f528-4e7e-b736-9460ae620636",
   "metadata": {},
   "outputs": [],
   "source": [
    "ss_hyper_set = ss.relations[l[0]]\n",
    "ss_hypo_set = ss.relations[l[1]]\n",
    "print(ss_hyper_set)\n",
    "print(ss_hypo_set)"
   ]
  },
  {
   "cell_type": "code",
   "execution_count": null,
   "id": "3a322bc8-fb9f-4da9-a76c-b1a22adc9386",
   "metadata": {},
   "outputs": [],
   "source": [
    "ss_hyper = list(ss_hyper_set)[0]\n",
    "ss_hypo = list(ss_hypo_set)[2]"
   ]
  },
  {
   "cell_type": "code",
   "execution_count": null,
   "id": "c22f6a82-ba5b-4ef8-a531-b33a96a4c716",
   "metadata": {},
   "outputs": [],
   "source": [
    "relatedness_calculator.simple_path(ss, ss_hypo)"
   ]
  },
  {
   "cell_type": "code",
   "execution_count": null,
   "id": "8fa48083-12db-4515-bd0c-f79465f28667",
   "metadata": {},
   "outputs": [],
   "source": [
    "relatedness_calculator.simple_path(ss, ss_hyper)"
   ]
  },
  {
   "cell_type": "code",
   "execution_count": null,
   "id": "c5de1cde-a967-47df-8774-df2fb53a06df",
   "metadata": {},
   "outputs": [],
   "source": [
    "ss_list = germanet.get_synsets_by_orthform(\"Bank\")\n",
    "l = ss_list[0].lexunits[0]\n",
    "type(l.orthform)"
   ]
  },
  {
   "cell_type": "code",
   "execution_count": null,
   "id": "c69a9fdf-a411-42e7-91de-402138238214",
   "metadata": {},
   "outputs": [],
   "source": [
    "b = germanet.get_synsets_by_orthform(\"Sitzmöbel\")\n",
    "for k, v in b[0].relations.items():\n",
    "    print(k)\n",
    "    for other in v:\n",
    "        print(other)\n",
    "    print(\"\\n\")"
   ]
  },
  {
   "cell_type": "code",
   "execution_count": null,
   "id": "1f59fd87-bded-4b3f-a9d6-7d721b555797",
   "metadata": {},
   "outputs": [],
   "source": [
    "germanet.get_synsets_by_orthform(\"GNROOT\")"
   ]
  }
 ],
 "metadata": {
  "kernelspec": {
   "display_name": "Python 3 (ipykernel)",
   "language": "python",
   "name": "python3"
  },
  "language_info": {
   "codemirror_mode": {
    "name": "ipython",
    "version": 3
   },
   "file_extension": ".py",
   "mimetype": "text/x-python",
   "name": "python",
   "nbconvert_exporter": "python",
   "pygments_lexer": "ipython3",
   "version": "3.11.2"
  }
 },
 "nbformat": 4,
 "nbformat_minor": 5
}
