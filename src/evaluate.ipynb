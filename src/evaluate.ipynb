{
 "cells": [
  {
   "cell_type": "markdown",
   "id": "cc78dd0a-20c4-4b5b-9623-8d2f55486e96",
   "metadata": {},
   "source": [
    "# setup"
   ]
  },
  {
   "cell_type": "markdown",
   "id": "f73f98db-5838-49b2-923e-f288fc2ba96f",
   "metadata": {},
   "source": [
    "## imports"
   ]
  },
  {
   "cell_type": "code",
   "execution_count": null,
   "id": "a22f6822-07d1-479c-9f78-647d30293519",
   "metadata": {},
   "outputs": [],
   "source": [
    "import os\n",
    "from dataclasses import dataclass\n",
    "\n",
    "import networkx as nx\n",
    "import plotly.graph_objects as go\n",
    "import plotly.io as pio\n",
    "import psycopg\n",
    "from germanetpy.filterconfig import Filterconfig\n",
    "from germanetpy.frames import Frames\n",
    "from germanetpy.germanet import Germanet\n",
    "from germanetpy.path_based_relatedness_measures import PathBasedRelatedness\n",
    "from germanetpy.synset import WordCategory, WordClass\n",
    "from psycopg.sql import SQL, Identifier, Literal"
   ]
  },
  {
   "cell_type": "markdown",
   "id": "bc713881-9f62-4df9-89ca-1169916e3d79",
   "metadata": {},
   "source": [
    "## global vars"
   ]
  },
  {
   "cell_type": "code",
   "execution_count": null,
   "id": "49acbdb7-7e78-4bad-9386-4b5e920bb0bb",
   "metadata": {},
   "outputs": [],
   "source": [
    "enable_test = True\n",
    "pio.renderers.default = \"notebook\""
   ]
  },
  {
   "cell_type": "code",
   "execution_count": null,
   "id": "c30a65b7-42d4-4ef0-bb43-a9e12fb7ba74",
   "metadata": {},
   "outputs": [],
   "source": [
    "germanet = Germanet(\"/veld/input/\")"
   ]
  },
  {
   "cell_type": "code",
   "execution_count": null,
   "id": "cdf64211-2176-421c-8304-0fbfa07845ff",
   "metadata": {},
   "outputs": [],
   "source": [
    "POSTGRES_HOST = os.getenv(\"POSTGRES_HOST\")\n",
    "POSTGRES_PORT = os.getenv(\"POSTGRES_PORT\")\n",
    "POSTGRES_USER = os.getenv(\"POSTGRES_USER\")\n",
    "POSTGRES_PASSWORD = os.getenv(\"POSTGRES_PASSWORD\")\n",
    "POSTGRES_DB = os.getenv(\"POSTGRES_DB\")\n",
    "print(f\"{POSTGRES_HOST=}\")\n",
    "print(f\"{POSTGRES_PORT=}\")\n",
    "print(f\"{POSTGRES_USER=}\")\n",
    "print(f\"{POSTGRES_PASSWORD=}\")\n",
    "print(f\"{POSTGRES_DB=}\")"
   ]
  },
  {
   "cell_type": "markdown",
   "id": "a9e35395-5d59-4e87-b900-d04a8907ea0d",
   "metadata": {},
   "source": [
    "## DB"
   ]
  },
  {
   "cell_type": "code",
   "execution_count": null,
   "id": "8faa63f8-4a9e-483a-b089-22d6fd63b230",
   "metadata": {},
   "outputs": [],
   "source": [
    "conn = psycopg.connect(\n",
    "    host=POSTGRES_HOST,\n",
    "    port=POSTGRES_PORT,\n",
    "    dbname=POSTGRES_DB,\n",
    "    user=POSTGRES_USER,\n",
    "    password=POSTGRES_PASSWORD,\n",
    ")\n",
    "conn.autocommit = True\n",
    "cur = conn.cursor()\n",
    "cur.execute(\"SELECT version()\")\n",
    "print(cur.fetchone())"
   ]
  },
  {
   "cell_type": "code",
   "execution_count": null,
   "id": "3266ca30-c5ac-461f-a34c-b3c7086f5bd2",
   "metadata": {},
   "outputs": [],
   "source": [
    "class DB:\n",
    "\n",
    "    class CreateColumn:\n",
    "        def __init__(self, name, col_type, primary_key=False):\n",
    "            self.name = name\n",
    "            self.col_type = col_type\n",
    "            self.primary_key = primary_key\n",
    "\n",
    "    def __init__(self, cur):\n",
    "        self.cur = cur\n",
    "        self.reset()\n",
    "\n",
    "    def reset(self):\n",
    "        self.query = SQL(\"\")\n",
    "\n",
    "    def execute(self):\n",
    "        print(self.query.as_string())\n",
    "        self.cur.execute(self.query)\n",
    "        self.reset()\n",
    "\n",
    "    def __repr__(self):\n",
    "        return self.query.as_string()\n",
    "\n",
    "    def drop_table(self, table_name):\n",
    "        self.query += SQL(\"DROP TABLE IF EXISTS {table_name}\").format(table_name=Identifier(table_name))\n",
    "        return self\n",
    "\n",
    "    def create_table(self, name, columns):\n",
    "        self.query += SQL(\"CREATE TABLE {table_name} (\").format(table_name=Identifier(name))\n",
    "        for col_id in range(0, len(columns)):\n",
    "            col = columns[col_id]\n",
    "            self.query += SQL(\"{column_name} {column_type}\").format(column_name=Identifier(col.name), column_type=SQL(col.col_type))\n",
    "            if col.primary_key:\n",
    "                self.query += SQL(\" PRIMARY KEY\")\n",
    "            if col_id < len(columns) - 1:\n",
    "                self.query += SQL(\", \")\n",
    "        self.query += SQL(\")\")\n",
    "        return self\n",
    "\n",
    "    def select_from(self, table_name, columns, where_conditions=None):\n",
    "        self.query += SQL(\"SELECT \")\n",
    "\n",
    "\n",
    "db = DB(cur)"
   ]
  },
  {
   "cell_type": "markdown",
   "id": "b3131eb1-2fdd-4143-816f-48f5d926326c",
   "metadata": {},
   "source": [
    "# individual functions"
   ]
  },
  {
   "cell_type": "markdown",
   "id": "8de68198-0ff9-4968-b9c7-ac2ba3102735",
   "metadata": {},
   "source": [
    "## germanet"
   ]
  },
  {
   "cell_type": "code",
   "execution_count": null,
   "id": "a3d0755b-bcd6-4e0a-af76-1990c1cabf24",
   "metadata": {},
   "outputs": [],
   "source": [
    "relatedness_calculator = PathBasedRelatedness(\n",
    "    germanet=germanet,\n",
    "    category=WordCategory.nomen,\n",
    "    max_len=35,\n",
    "    max_depth=20,\n",
    ")\n",
    "\n",
    "\n",
    "if enable_test:\n",
    "    w1 = germanet.get_synsets_by_orthform(\"Trompete\").pop()\n",
    "    w2 = germanet.get_synsets_by_orthform(\"Flöte\").pop()\n",
    "    w3 = germanet.get_synsets_by_orthform(\"Haus\").pop()\n",
    "    w1_w2 = relatedness_calculator.simple_path(w1, w2)\n",
    "    w1_w3 = relatedness_calculator.simple_path(w1, w3)\n",
    "    print(w1_w2)\n",
    "    print(w1_w3)"
   ]
  },
  {
   "cell_type": "markdown",
   "id": "52c235f3-3176-4dc2-b0ff-e00d7bcd73d1",
   "metadata": {},
   "source": [
    "## get_average_synset_path"
   ]
  },
  {
   "cell_type": "code",
   "execution_count": null,
   "id": "4e695aa5-03af-461a-b3b7-94303577444e",
   "metadata": {},
   "outputs": [],
   "source": [
    "def get_average_synset_path(word_1, word_2):\n",
    "    synset_list_1 = germanet.get_synsets_by_orthform(word_1.capitalize())\n",
    "    synset_list_2 = germanet.get_synsets_by_orthform(word_2.capitalize())\n",
    "    path_distance_list = []\n",
    "    for synset_1 in synset_list_1:\n",
    "        for synset_2 in synset_list_2:\n",
    "            try:\n",
    "                path_distance_list.append(relatedness_calculator.simple_path(synset_1, synset_2))\n",
    "            except:\n",
    "                return None\n",
    "    if len(path_distance_list) != 0:\n",
    "        average_path = sum(path_distance_list) / len(path_distance_list)\n",
    "        return average_path\n",
    "    else:\n",
    "        return None\n",
    "\n",
    "\n",
    "if enable_test:\n",
    "    print(get_average_synset_path(\"Frau\", \"Gattin\"))\n",
    "    print(get_average_synset_path(\"Frau\", \"Mann\"))\n",
    "    print(get_average_synset_path(\"Frau\", \"Küche\"))\n",
    "    print(get_average_synset_path(\"Frau\", \"Kind\"))\n",
    "    print(get_average_synset_path(\"Mann\", \"Kind\"))\n",
    "    print(get_average_synset_path(\"Frau\", \"Mathematik\"))\n",
    "    print(get_average_synset_path(\"Mann\", \"Mathematik\"))\n",
    "    print(get_average_synset_path(\"Frau\", \"Frau\"))\n",
    "    print(get_average_synset_path(\"Gattin\", \"Gattin\"))"
   ]
  },
  {
   "cell_type": "markdown",
   "id": "371d9ddb-6808-4e93-8850-8f61d88e7fe9",
   "metadata": {},
   "source": [
    "## create_lexeme_graph"
   ]
  },
  {
   "cell_type": "code",
   "execution_count": null,
   "id": "4259daf2-df62-40c3-a5b5-453ceba76889",
   "metadata": {},
   "outputs": [],
   "source": [
    "def create_lexeme_graph(limit=None, debug=False):\n",
    "    g = nx.Graph()\n",
    "    synset_list = list(germanet.synsets.values())\n",
    "    if limit is not None:\n",
    "        synset_list = synset_list[:limit]\n",
    "    for ss in synset_list:\n",
    "        if debug:\n",
    "            print(ss)\n",
    "        for ss_rel_key, ss_rel_set in ss.relations.items():\n",
    "            if debug:\n",
    "                print(\"\\t\", ss_rel_key)\n",
    "            for ss_rel in ss_rel_set:\n",
    "                if debug:\n",
    "                    print(\"\\t\\t\", ss_rel)\n",
    "                    print(\"\\t\\t\\t\", ss_rel.lexunits)\n",
    "                for lex_ss in ss.lexunits:\n",
    "                    for lex_ss_rel in ss_rel.lexunits:\n",
    "                        if \"GNROOT\" not in [lex_ss.orthform, lex_ss_rel.orthform]:\n",
    "                            g.add_edge(lex_ss.orthform, lex_ss_rel.orthform, label=ss.id + \"-\" + ss_rel.id)\n",
    "    return g\n",
    "\n",
    "\n",
    "if enable_test:\n",
    "    g = create_lexeme_graph(limit=1000, debug=False)"
   ]
  },
  {
   "cell_type": "markdown",
   "id": "459c9983-718c-4fac-be61-99a65ebb2bef",
   "metadata": {},
   "source": [
    "## plot_graph"
   ]
  },
  {
   "cell_type": "code",
   "execution_count": null,
   "id": "9d9a408a-aa62-433b-8366-e30756821b0e",
   "metadata": {},
   "outputs": [],
   "source": [
    "def plot_graph(g, sub_node_list=None, traversal_limit=None):\n",
    "    if sub_node_list:\n",
    "        sub_node_rel_set = set()\n",
    "        for sub_node in sub_node_list:\n",
    "            if traversal_limit is not None:\n",
    "                sub_node_rel_dict = nx.single_source_shortest_path_length(g, sub_node, cutoff=traversal_limit)\n",
    "            else:\n",
    "                sub_node_rel_dict = nx.single_source_shortest_path_length(g, sub_node)\n",
    "            sub_node_rel_set.update(set(sub_node_rel_dict.keys()))\n",
    "        g = g.subgraph(sub_node_rel_set).copy()  # make a copy to avoid view issues\n",
    "    pos = nx.spring_layout(g, seed=42)\n",
    "\n",
    "    # edges\n",
    "    edge_x = []\n",
    "    edge_y = []\n",
    "    edge_text = []\n",
    "    edge_label_x = []\n",
    "    edge_label_y = []\n",
    "    edge_label_text = []\n",
    "    for u, v, data in g.edges(data=True):\n",
    "        x0, y0 = pos[u]\n",
    "        x1, y1 = pos[v]\n",
    "        edge_x.extend([x0, x1, None])\n",
    "        edge_y.extend([y0, y1, None])\n",
    "        edge_text.append(data.get(\"label\", \"\"))\n",
    "        # midpoint for edge label\n",
    "        edge_label_x.append((x0 + x1) / 2)\n",
    "        edge_label_y.append((y0 + y1) / 2)\n",
    "        edge_label_text.append(data.get(\"label\", \"\"))\n",
    "\n",
    "    edge_trace = go.Scatter(\n",
    "        x=edge_x,\n",
    "        y=edge_y,\n",
    "        line=dict(width=2, color=\"#888\"),\n",
    "        hoverinfo=\"text\",\n",
    "        text=edge_text,\n",
    "        mode=\"lines\",\n",
    "    )\n",
    "\n",
    "    # edge labels as separate trace\n",
    "    edge_label_trace = go.Scatter(\n",
    "        x=edge_label_x,\n",
    "        y=edge_label_y,\n",
    "        mode=\"text\",\n",
    "        text=edge_label_text,\n",
    "        textposition=\"middle center\",\n",
    "        hoverinfo=\"none\",\n",
    "        textfont=dict(color=\"black\", size=12),\n",
    "    )\n",
    "\n",
    "    # nodes\n",
    "    node_x = []\n",
    "    node_y = []\n",
    "    node_text = []\n",
    "    for node in g.nodes():\n",
    "        x, y = pos[node]\n",
    "        node_x.append(x)\n",
    "        node_y.append(y)\n",
    "        node_text.append(node)\n",
    "\n",
    "    node_trace = go.Scatter(\n",
    "        x=node_x,\n",
    "        y=node_y,\n",
    "        mode=\"markers+text\",\n",
    "        text=node_text,\n",
    "        textposition=\"top center\",\n",
    "        hoverinfo=\"text\",\n",
    "        marker=dict(size=20, color=\"lightblue\", line=dict(width=2, color=\"DarkSlateGrey\")),\n",
    "    )\n",
    "\n",
    "    # build figure\n",
    "    fig = go.Figure(\n",
    "        data=[edge_trace, edge_label_trace, node_trace],\n",
    "        layout=go.Layout(\n",
    "            width=1000,\n",
    "            height=1000,\n",
    "            title=\"Interactive Graph\",\n",
    "            showlegend=False,\n",
    "            hovermode=\"closest\",\n",
    "            margin=dict(b=20, l=5, r=5, t=40),\n",
    "            xaxis=dict(showgrid=False, zeroline=False, showticklabels=False),\n",
    "            yaxis=dict(showgrid=False, zeroline=False, showticklabels=False),\n",
    "        ),\n",
    "    )\n",
    "    fig.show()\n",
    "\n",
    "\n",
    "if enable_test:\n",
    "    plot_graph(g, sub_node_list=[\"unwirklich\"], traversal_limit=2)"
   ]
  },
  {
   "cell_type": "code",
   "execution_count": null,
   "id": "ee5c011a-4afb-4ab1-be24-677d6c810aff",
   "metadata": {},
   "outputs": [],
   "source": [
    "def get_graph_path(g, l1, l2):\n",
    "    return list(nx.node_disjoint_paths(g, l1, l2))\n",
    "\n",
    "\n",
    "if enable_test:\n",
    "    for p in get_graph_path(g, \"unwirklich\", \"fantastisch\"):\n",
    "        print(p)"
   ]
  },
  {
   "cell_type": "markdown",
   "id": "38304bb2-7515-4bb0-8122-a14927649ba8",
   "metadata": {},
   "source": [
    "## word embeddings"
   ]
  },
  {
   "cell_type": "markdown",
   "id": "7515c330-3d0b-44dc-9d95-a949558deaa8",
   "metadata": {},
   "source": [
    "# analysis"
   ]
  },
  {
   "cell_type": "code",
   "execution_count": null,
   "id": "74030d6e-0d25-4cb6-85e1-554e76ef0f66",
   "metadata": {},
   "outputs": [],
   "source": [
    "g = create_lexeme_graph(debug=False)"
   ]
  },
  {
   "cell_type": "markdown",
   "id": "0ffeb651-fd0f-4686-b560-fe9864425e51",
   "metadata": {},
   "source": [
    "# experiments"
   ]
  },
  {
   "cell_type": "markdown",
   "id": "5a9d017e-9d0e-44ce-b214-6a792f3f8ec8",
   "metadata": {},
   "source": [
    "## germanet"
   ]
  },
  {
   "cell_type": "code",
   "execution_count": null,
   "id": "5f3f9980-e21c-47d7-b4e5-160b55085c21",
   "metadata": {},
   "outputs": [],
   "source": [
    "b = germanet.get_synsets_by_orthform(\"Bank\")\n",
    "for ss in b:\n",
    "    print(ss)"
   ]
  },
  {
   "cell_type": "code",
   "execution_count": null,
   "id": "9cd2b7af-a636-4fe4-9a31-106236b63eb8",
   "metadata": {},
   "outputs": [],
   "source": [
    "b = germanet.get_synsets_by_orthform(\"Bankinstitut\")\n",
    "for ss in b:\n",
    "    print(ss)"
   ]
  },
  {
   "cell_type": "code",
   "execution_count": null,
   "id": "e166e03c-6047-4b6d-9827-a66bdb4e9272",
   "metadata": {},
   "outputs": [],
   "source": [
    "print(b[1])\n",
    "print(b[1].lexunits)"
   ]
  },
  {
   "cell_type": "code",
   "execution_count": null,
   "id": "dacb6fc1-5f7a-45ad-86a3-8a7f6e49d8c7",
   "metadata": {},
   "outputs": [],
   "source": [
    "germanet.get_lexunit_by_id(\"l9381\").get_all_orthforms()"
   ]
  },
  {
   "cell_type": "code",
   "execution_count": null,
   "id": "cc0ce4e8-4a66-4033-99f0-5d5506949019",
   "metadata": {},
   "outputs": [],
   "source": [
    "b = germanet.get_synsets_by_orthform(\"Sitzmöbel\")\n",
    "for k, v in b[0].relations.items():\n",
    "    print(k)\n",
    "    for other in v:\n",
    "        print(other)\n",
    "    print(\"\\n\")"
   ]
  },
  {
   "cell_type": "code",
   "execution_count": null,
   "id": "250b81b2-d142-48f8-927f-14bda1b34f39",
   "metadata": {},
   "outputs": [],
   "source": [
    "b[1].incoming_relations"
   ]
  },
  {
   "cell_type": "code",
   "execution_count": null,
   "id": "e828b6f5-6144-4770-b458-f94099f5de65",
   "metadata": {},
   "outputs": [],
   "source": [
    "Filterconfig(\"orange\", ignore_case=True).filter_synsets(germanet)"
   ]
  },
  {
   "cell_type": "code",
   "execution_count": null,
   "id": "12993059-91aa-4843-aa3f-adde672dccf9",
   "metadata": {},
   "outputs": [],
   "source": [
    "WordCategory.get_possible_word_classes(WordCategory.nomen)"
   ]
  },
  {
   "cell_type": "code",
   "execution_count": null,
   "id": "99d76365-9907-42be-8007-0b41128a0339",
   "metadata": {},
   "outputs": [],
   "source": [
    "b = germanet.get_synsets_by_orthform(\"Bank\")\n",
    "for ss in b:\n",
    "    print(ss)"
   ]
  },
  {
   "cell_type": "code",
   "execution_count": null,
   "id": "f6cf6cb2-903d-4fd4-8ce9-f8ce762903c9",
   "metadata": {},
   "outputs": [],
   "source": [
    "ss = b[1]\n",
    "ss"
   ]
  },
  {
   "cell_type": "code",
   "execution_count": null,
   "id": "aececb94-4b21-49b8-b748-2fd811e80e33",
   "metadata": {},
   "outputs": [],
   "source": [
    "ss.relations"
   ]
  },
  {
   "cell_type": "code",
   "execution_count": null,
   "id": "9093e533-e88a-469e-a5a6-dcbce3fa74f5",
   "metadata": {},
   "outputs": [],
   "source": [
    "list(ss.relations.keys())"
   ]
  },
  {
   "cell_type": "code",
   "execution_count": null,
   "id": "51f4f6b4-f7b6-4400-930d-5e86722a8544",
   "metadata": {},
   "outputs": [],
   "source": [
    "l = list(ss.relations.keys())\n",
    "l"
   ]
  },
  {
   "cell_type": "code",
   "execution_count": null,
   "id": "6d1095d2-f528-4e7e-b736-9460ae620636",
   "metadata": {},
   "outputs": [],
   "source": [
    "ss_hyper_set = ss.relations[l[0]]\n",
    "ss_hypo_set = ss.relations[l[1]]\n",
    "print(ss_hyper_set)\n",
    "print(ss_hypo_set)"
   ]
  },
  {
   "cell_type": "code",
   "execution_count": null,
   "id": "3a322bc8-fb9f-4da9-a76c-b1a22adc9386",
   "metadata": {},
   "outputs": [],
   "source": [
    "ss_hyper = list(ss_hyper_set)[0]\n",
    "ss_hypo = list(ss_hypo_set)[2]"
   ]
  },
  {
   "cell_type": "code",
   "execution_count": null,
   "id": "c22f6a82-ba5b-4ef8-a531-b33a96a4c716",
   "metadata": {},
   "outputs": [],
   "source": [
    "relatedness_calculator.simple_path(ss, ss_hypo)"
   ]
  },
  {
   "cell_type": "code",
   "execution_count": null,
   "id": "8fa48083-12db-4515-bd0c-f79465f28667",
   "metadata": {},
   "outputs": [],
   "source": [
    "relatedness_calculator.simple_path(ss, ss_hyper)"
   ]
  },
  {
   "cell_type": "code",
   "execution_count": null,
   "id": "c5de1cde-a967-47df-8774-df2fb53a06df",
   "metadata": {},
   "outputs": [],
   "source": [
    "ss_list = germanet.get_synsets_by_orthform(\"Bank\")\n",
    "l = ss_list[0].lexunits[0]\n",
    "type(l.orthform)"
   ]
  },
  {
   "cell_type": "code",
   "execution_count": null,
   "id": "c69a9fdf-a411-42e7-91de-402138238214",
   "metadata": {},
   "outputs": [],
   "source": [
    "b = germanet.get_synsets_by_orthform(\"Sitzmöbel\")\n",
    "for k, v in b[0].relations.items():\n",
    "    print(k)\n",
    "    for other in v:\n",
    "        print(other)\n",
    "    print(\"\\n\")"
   ]
  },
  {
   "cell_type": "code",
   "execution_count": null,
   "id": "1f59fd87-bded-4b3f-a9d6-7d721b555797",
   "metadata": {},
   "outputs": [],
   "source": [
    "germanet.get_synsets_by_orthform(\"GNROOT\")"
   ]
  }
 ],
 "metadata": {
  "kernelspec": {
   "display_name": "Python 3 (ipykernel)",
   "language": "python",
   "name": "python3"
  },
  "language_info": {
   "codemirror_mode": {
    "name": "ipython",
    "version": 3
   },
   "file_extension": ".py",
   "mimetype": "text/x-python",
   "name": "python",
   "nbconvert_exporter": "python",
   "pygments_lexer": "ipython3",
   "version": "3.11.2"
  }
 },
 "nbformat": 4,
 "nbformat_minor": 5
}
